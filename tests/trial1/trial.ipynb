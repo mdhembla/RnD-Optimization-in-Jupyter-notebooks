{
  "cells": [
    {
      "cell_type": "code",
      "execution_count": 2,
      "metadata": {
        "id": "OLm_NGh_jK_N"
      },
      "outputs": [],
      "source": [
        "#Q1\n",
        "import numpy as np\n",
        "\n",
        "A = np.arange(1, 101)\n",
        "R = A.reshape((10, 10))\n",
        "\n",
        "def isPrime(n):\n",
        "  if n < 2:\n",
        "    return 0\n",
        "  else:\n",
        "    for i in range(2, int(np.sqrt(n)) + 1):\n",
        "      if n % i == 0:\n",
        "        return 0\n",
        "    return 1\n",
        "\n",
        "B = np.vectorize(isPrime)(R)\n",
        "\n",
        "C = np.concatenate((R,B))"
      ]
    },
    {
      "cell_type": "code",
      "execution_count": null,
      "metadata": {},
      "outputs": [],
      "source": [
        "#Q1\n",
        "import numpy as np\n",
        "\n",
        "A = np.arange(1, 101)\n",
        "R = A.reshape((10, 10))\n",
        "\n",
        "def isPrime(n):\n",
        "  if n < 2:\n",
        "    return 0\n",
        "  else:\n",
        "    for i in range(2, int(np.sqrt(n)) + 1):\n",
        "      if n % i == 0:\n",
        "        return 0\n",
        "    return 1\n",
        "\n",
        "B = np.vectorize(isPrime)(R)\n",
        "\n",
        "C = np.concatenate((R,B))"
      ]
    },
    {
      "cell_type": "code",
      "execution_count": 17,
      "metadata": {
        "colab": {
          "base_uri": "https://localhost:8080/"
        },
        "id": "lSQVVVVpmjWI",
        "outputId": "3f5ea655-ef49-433d-dbe4-6032bd03a249"
      },
      "outputs": [
        {
          "name": "stdout",
          "output_type": "stream",
          "text": [
            "M    4\n",
            "D    3\n",
            "P    2\n",
            "Name: User full name, dtype: int64\n",
            "             Time User full name                          Event context  \\\n",
            "0  7/08/20, 01:20              M          Assignment: Stop motion video   \n",
            "1  7/08/20, 01:19              P  Assignment: you want everyone to read   \n",
            "2  7/08/20, 01:18              M  Assignment: you want everyone to read   \n",
            "\n",
            "    Component                        Event name Origin       IP address  \\\n",
            "0  Assignment  A submission has been submitted.    web  106.207.242.117   \n",
            "1  Assignment  A submission has been submitted.  phone    132.154.69.59   \n",
            "2  Assignment  A submission has been submitted.    web  106.207.242.117   \n",
            "\n",
            "   Gender  \n",
            "0    male  \n",
            "1  female  \n",
            "2    male  \n",
            "              Time User full name  \\\n",
            "2   7/08/20, 01:18              M   \n",
            "3   7/08/20, 01:16              P   \n",
            "4  28/07/20, 12:19              M   \n",
            "5  28/07/20, 12:18              D   \n",
            "6  28/07/20, 11:43              D   \n",
            "7  28/07/20, 09:00              D   \n",
            "8  26/07/20, 17:33              M   \n",
            "\n",
            "                                 Event context   Component  \\\n",
            "2        Assignment: you want everyone to read  Assignment   \n",
            "3                Assignment: Stop motion video  Assignment   \n",
            "4  Workshop: Workshop on learning new language    Workshop   \n",
            "5  Workshop: Workshop on learning new language    Workshop   \n",
            "6        Assignment: you want everyone to read  Assignment   \n",
            "7        Assignment: you want everyone to read  Assignment   \n",
            "8        Assignment: you want everyone to read  Assignment   \n",
            "\n",
            "                         Event name Origin       IP address  Gender  \n",
            "2  A submission has been submitted.    web  106.207.242.117    male  \n",
            "3  A submission has been submitted.    web    132.154.69.59  female  \n",
            "4   A submission has been uploaded.  phone   106.207.245.49    male  \n",
            "5   A submission has been uploaded.    web     103.67.17.14    male  \n",
            "6  A submission has been submitted.  phone     103.67.17.14    male  \n",
            "7  A submission has been submitted.  phone     103.67.17.14    male  \n",
            "8  A submission has been submitted.    web  106.207.223.163    male  \n",
            "              Time User full name  \\\n",
            "0   7/08/20, 01:20              M   \n",
            "2   7/08/20, 01:18              M   \n",
            "4  28/07/20, 12:19              M   \n",
            "5  28/07/20, 12:18              D   \n",
            "6  28/07/20, 11:43              D   \n",
            "7  28/07/20, 09:00              D   \n",
            "8  26/07/20, 17:33              M   \n",
            "\n",
            "                                 Event context   Component  \\\n",
            "0                Assignment: Stop motion video  Assignment   \n",
            "2        Assignment: you want everyone to read  Assignment   \n",
            "4  Workshop: Workshop on learning new language    Workshop   \n",
            "5  Workshop: Workshop on learning new language    Workshop   \n",
            "6        Assignment: you want everyone to read  Assignment   \n",
            "7        Assignment: you want everyone to read  Assignment   \n",
            "8        Assignment: you want everyone to read  Assignment   \n",
            "\n",
            "                         Event name Origin       IP address Gender  \n",
            "0  A submission has been submitted.    web  106.207.242.117   male  \n",
            "2  A submission has been submitted.    web  106.207.242.117   male  \n",
            "4   A submission has been uploaded.  phone   106.207.245.49   male  \n",
            "5   A submission has been uploaded.    web     103.67.17.14   male  \n",
            "6  A submission has been submitted.  phone     103.67.17.14   male  \n",
            "7  A submission has been submitted.  phone     103.67.17.14   male  \n",
            "8  A submission has been submitted.    web  106.207.223.163   male  \n"
          ]
        }
      ],
      "source": [
        "#Q2\n",
        "import pandas as pd\n",
        "\n",
        "csv = \"https://drive.google.com/uc?id=1lSSw_vZ63uz34wX566c0L3FL7H4AB7X1\"\n",
        "df = pd.read_csv(csv)\n",
        "\n",
        "df['Gender'] = 'male'\n",
        "for i in df.index:\n",
        "  if df[\"User full name\"][i] == 'P':\n",
        "    df['Gender'][i] = 'female'\n",
        "\n",
        "no_of_actions = df['User full name'].value_counts()\n",
        "print(no_of_actions)\n",
        "\n",
        "df = df.drop(columns=['Description'])\n",
        "print(df.head(3))\n",
        "print(df.tail(7))\n",
        "\n",
        "print(df[df['Gender'] == 'male'])"
      ]
    },
    {
      "cell_type": "code",
      "execution_count": 6,
      "metadata": {
        "colab": {
          "base_uri": "https://localhost:8080/",
          "height": 430
        },
        "id": "3O1jXIBfqY2S",
        "outputId": "06aa36fb-cde0-4cb1-c1db-33e811ea4ee5"
      },
      "outputs": [
        {
          "data": {
            "image/png": "[encoded data removed]",
            "text/plain": [
              "<Figure size 640x480 with 1 Axes>"
            ]
          },
          "metadata": {},
          "output_type": "display_data"
        }
      ],
      "source": [
        "#Q3\n",
        "import matplotlib.pyplot as plt\n",
        "\n",
        "perc = df['Origin'].value_counts(normalize=True) * 100\n",
        "perc.plot(kind='pie')"
      ]
    },
    {
      "cell_type": "code",
      "execution_count": 18,
      "metadata": {
        "colab": {
          "base_uri": "https://localhost:8080/",
          "height": 446
        },
        "id": "Oj6C1Exer4BD",
        "outputId": "03d14772-1301-45d4-cd05-3fa710ec3751"
      },
      "outputs": [
        {
          "data": {
            "text/plain": [
              "<Axes: >"
            ]
          },
          "execution_count": 18,
          "metadata": {},
          "output_type": "execute_result"
        },
        {
          "data": {
            "image/png": "[encoded data removed]",
            "text/plain": [
              "<Figure size 640x480 with 1 Axes>"
            ]
          },
          "metadata": {},
          "output_type": "display_data"
        }
      ],
      "source": [
        "no_of_actions.plot(kind='bar')"
      ]
    },
    {
      "cell_type": "code",
      "execution_count": 7,
      "metadata": {
        "colab": {
          "base_uri": "https://localhost:8080/",
          "height": 430
        },
        "id": "E1u14ITmpVgv",
        "outputId": "57094c0b-8443-450e-f50e-0559cd140575"
      },
      "outputs": [
        {
          "data": {
            "image/png": "[encoded data removed]",
            "text/plain": [
              "<Figure size 640x480 with 1 Axes>"
            ]
          },
          "metadata": {},
          "output_type": "display_data"
        }
      ],
      "source": [
        "X = np.vectorize(isPrime)(A)\n",
        "P = A[np.nonzero(X)]\n",
        "plt.boxplot(P)\n",
        "plt.show()"
      ]
    },
    {
      "cell_type": "code",
      "execution_count": 9,
      "metadata": {
        "colab": {
          "base_uri": "https://localhost:8080/",
          "height": 448
        },
        "id": "L-Frx9I7pbfk",
        "outputId": "c4ec6542-f8d3-42f0-909e-3e7ca888ff43"
      },
      "outputs": [
        {
          "data": {
            "text/plain": [
              "<matplotlib.collections.PathCollection at 0x7a7087277160>"
            ]
          },
          "execution_count": 9,
          "metadata": {},
          "output_type": "execute_result"
        },
        {
          "data": {
            "image/png": "[encoded data removed]",
            "text/plain": [
              "<Figure size 640x480 with 1 Axes>"
            ]
          },
          "metadata": {},
          "output_type": "display_data"
        }
      ],
      "source": [
        "x_coords = [1,2,1,5,7]\n",
        "y_coords = [2,3,4,6,5]\n",
        "plt.scatter(x_coords,y_coords)\n"
      ]
    }
  ],
  "metadata": {
    "colab": {
      "provenance": []
    },
    "kernelspec": {
      "display_name": "Python 3",
      "name": "python3"
    },
    "language_info": {
      "name": "python"
    }
  },
  "nbformat": 4,
  "nbformat_minor": 0
}
